{
 "cells": [
  {
   "cell_type": "code",
   "execution_count": null,
   "metadata": {},
   "outputs": [],
   "source": [
    "from trainer.Trainer import Trainer\n",
    "\n",
    "config_file = 'configs/MountainCar-v0.yaml'\n",
    "# TODO\n",
    "# 任务表征网络的必要性\n",
    "# 优化整理代码\n",
    "if __name__ == '__main__':\n",
    "    for _ in range(10):\n",
    "        trainer = Trainer(config_file)\n",
    "        trainer.run()\n",
    "        trainer.close()\n",
    "        if trainer.conf.resume:\n",
    "            break\n",
    "            "
   ]
  }
 ],
 "metadata": {
  "kernelspec": {
   "display_name": "ppo",
   "language": "python",
   "name": "python3"
  },
  "language_info": {
   "codemirror_mode": {
    "name": "ipython",
    "version": 3
   },
   "file_extension": ".py",
   "mimetype": "text/x-python",
   "name": "python",
   "nbconvert_exporter": "python",
   "pygments_lexer": "ipython3",
   "version": "3.8.15"
  },
  "orig_nbformat": 4
 },
 "nbformat": 4,
 "nbformat_minor": 2
}
